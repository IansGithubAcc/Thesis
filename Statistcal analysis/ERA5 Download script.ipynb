{
 "cells": [
  {
   "cell_type": "code",
   "execution_count": 1,
   "metadata": {},
   "outputs": [],
   "source": [
    "# Grabbing data :"
   ]
  },
  {
   "cell_type": "code",
   "execution_count": 1,
   "metadata": {},
   "outputs": [],
   "source": [
    "variable_name = 'wave_spectral_directional_width_for_swell'\n",
    "file_name = 'swell_w'"
   ]
  },
  {
   "cell_type": "code",
   "execution_count": 2,
   "metadata": {},
   "outputs": [
    {
     "name": "stderr",
     "output_type": "stream",
     "text": [
      "2020-08-04 14:53:48,254 INFO Welcome to the CDS\n",
      "2020-08-04 14:53:48,257 INFO Sending request to https://cds.climate.copernicus.eu/api/v2/resources/reanalysis-era5-single-levels\n",
      "2020-08-04 14:53:49,671 INFO Request is queued\n",
      "2020-08-04 14:53:52,533 INFO Request is running\n",
      "2020-08-04 17:10:44,757 INFO Request is completed\n",
      "2020-08-04 17:10:44,818 INFO Downloading http://136.156.133.25/cache-compute-0008/cache/data9/adaptor.mars.internal-1596545633.1420999-12088-28-c2ea36ea-c736-4959-91b2-223e919cbcc4.nc to ERA5/swell_w_p1.nc (794.1K)\n",
      "2020-08-04 17:10:46,530 INFO Download rate 463.8K/s                                                                    \n"
     ]
    },
    {
     "data": {
      "text/plain": [
       "Result(content_length=813164,content_type=application/x-netcdf,location=http://136.156.133.25/cache-compute-0008/cache/data9/adaptor.mars.internal-1596545633.1420999-12088-28-c2ea36ea-c736-4959-91b2-223e919cbcc4.nc)"
      ]
     },
     "execution_count": 2,
     "metadata": {},
     "output_type": "execute_result"
    }
   ],
   "source": [
    "import cdsapi\n",
    "\n",
    "c = cdsapi.Client()\n",
    "\n",
    "c.retrieve(\n",
    "    'reanalysis-era5-single-levels',\n",
    "    {\n",
    "        'product_type': 'reanalysis',\n",
    "        'variable': variable_name,\n",
    "        'year': [\n",
    "            '2009', '2010', '2011',\n",
    "            '2012', '2013', '2014',\n",
    "            '2015', '2016', '2017',\n",
    "            '2018', '2019', '2020',\n",
    "        ],\n",
    "        'month': [\n",
    "            '01', '02', '03',\n",
    "            '04', '05', '06',\n",
    "            '07', '08', '09',\n",
    "            '10', '11', '12',\n",
    "        ],\n",
    "        'day': [\n",
    "            '01', '02', '03',\n",
    "            '04', '05', '06',\n",
    "            '07', '08', '09',\n",
    "            '10', '11', '12',\n",
    "            '13', '14', '15',\n",
    "            '16', '17', '18',\n",
    "            '19', '20', '21',\n",
    "            '22', '23', '24',\n",
    "            '25', '26', '27',\n",
    "            '28', '29', '30',\n",
    "            '31',\n",
    "        ],\n",
    "        'time': [\n",
    "            '00:00', '01:00', '02:00',\n",
    "            '03:00', '04:00', '05:00',\n",
    "            '06:00', '07:00', '08:00',\n",
    "            '09:00', '10:00', '11:00',\n",
    "            '12:00', '13:00', '14:00',\n",
    "            '15:00', '16:00', '17:00',\n",
    "            '18:00', '19:00', '20:00',\n",
    "            '21:00', '22:00', '23:00',\n",
    "        ],\n",
    "        'area': [\n",
    "            50.76, 0.24, 50.74,\n",
    "            0.26,\n",
    "        ],\n",
    "        'format': 'netcdf',\n",
    "    },\n",
    "    'ERA5/'+file_name+'_p1.nc')"
   ]
  },
  {
   "cell_type": "code",
   "execution_count": 3,
   "metadata": {},
   "outputs": [
    {
     "name": "stderr",
     "output_type": "stream",
     "text": [
      "2020-07-31 13:44:40,529 INFO Welcome to the CDS\n",
      "2020-07-31 13:44:40,531 INFO Sending request to https://cds.climate.copernicus.eu/api/v2/resources/reanalysis-era5-single-levels\n",
      "2020-07-31 13:44:41,090 INFO Request is queued\n",
      "2020-07-31 13:44:42,216 INFO Request is running\n",
      "2020-07-31 14:30:50,361 WARNING Recovering from connection error [('Connection aborted.', OSError(\"(10054, 'WSAECONNRESET')\"))], attemps 0 of 500\n",
      "2020-07-31 14:30:50,361 WARNING Retrying in 120 seconds\n",
      "2020-07-31 14:32:50,363 INFO Retrying now...\n",
      "2020-07-31 16:15:27,809 INFO Request is completed\n",
      "2020-07-31 16:15:27,810 INFO Downloading http://136.156.133.25/cache-compute-0008/cache/data9/adaptor.mars.internal-1596195881.2816834-28074-7-5a541840-706c-43af-9d9e-c9fce678dbe6.nc to ERA5/Hs_p2.nc (617.4K)\n",
      "2020-07-31 16:15:28,729 INFO Download rate 672.9K/s                                                                    \n"
     ]
    },
    {
     "data": {
      "text/plain": [
       "Result(content_length=632256,content_type=application/x-netcdf,location=http://136.156.133.25/cache-compute-0008/cache/data9/adaptor.mars.internal-1596195881.2816834-28074-7-5a541840-706c-43af-9d9e-c9fce678dbe6.nc)"
      ]
     },
     "execution_count": 3,
     "metadata": {},
     "output_type": "execute_result"
    }
   ],
   "source": [
    "import cdsapi\n",
    "\n",
    "c = cdsapi.Client()\n",
    "\n",
    "c.retrieve(\n",
    "    'reanalysis-era5-single-levels',\n",
    "    {\n",
    "        'product_type': 'reanalysis',\n",
    "        'variable': variable_name,\n",
    "        'year': [\n",
    "            '1997', '1998', '1999',\n",
    "            '2000', '2001', '2002',\n",
    "            '2003', '2004', '2005',\n",
    "            '2006', '2007', '2008',\n",
    "        ],\n",
    "        'month': [\n",
    "            '01', '02', '03',\n",
    "            '04', '05', '06',\n",
    "            '07', '08', '09',\n",
    "            '10', '11', '12',\n",
    "        ],\n",
    "        'day': [\n",
    "            '01', '02', '03',\n",
    "            '04', '05', '06',\n",
    "            '07', '08', '09',\n",
    "            '10', '11', '12',\n",
    "            '13', '14', '15',\n",
    "            '16', '17', '18',\n",
    "            '19', '20', '21',\n",
    "            '22', '23', '24',\n",
    "            '25', '26', '27',\n",
    "            '28', '29', '30',\n",
    "            '31',\n",
    "        ],\n",
    "        'time': [\n",
    "            '00:00', '01:00', '02:00',\n",
    "            '03:00', '04:00', '05:00',\n",
    "            '06:00', '07:00', '08:00',\n",
    "            '09:00', '10:00', '11:00',\n",
    "            '12:00', '13:00', '14:00',\n",
    "            '15:00', '16:00', '17:00',\n",
    "            '18:00', '19:00', '20:00',\n",
    "            '21:00', '22:00', '23:00',\n",
    "        ],\n",
    "        'format': 'netcdf',\n",
    "        'area': [\n",
    "            50.76, 0.24, 50.74,\n",
    "            0.26,\n",
    "        ],\n",
    "    },\n",
    "    'ERA5/'+file_name+'_p2.nc')"
   ]
  },
  {
   "cell_type": "code",
   "execution_count": 4,
   "metadata": {},
   "outputs": [
    {
     "name": "stderr",
     "output_type": "stream",
     "text": [
      "2020-07-31 16:15:29,343 INFO Welcome to the CDS\n",
      "2020-07-31 16:15:29,344 INFO Sending request to https://cds.climate.copernicus.eu/api/v2/resources/reanalysis-era5-single-levels\n",
      "2020-07-31 16:15:30,787 INFO Request is queued\n",
      "2020-07-31 16:15:31,904 INFO Request is running\n",
      "2020-07-31 17:24:27,466 WARNING Recovering from connection error [('Connection aborted.', OSError(\"(10054, 'WSAECONNRESET')\"))], attemps 0 of 500\n",
      "2020-07-31 17:24:27,498 WARNING Retrying in 120 seconds\n",
      "2020-07-31 17:26:27,500 INFO Retrying now...\n",
      "2020-07-31 19:11:04,169 INFO Request is completed\n",
      "2020-07-31 19:11:04,207 INFO Downloading http://136.156.133.42/cache-compute-0014/cache/data4/adaptor.mars.internal-1596204931.7265623-8610-15-d062b13d-3c83-402b-babd-fb2864b86b01.nc to ERA5/Hs_p3.nc (617.4K)\n",
      "2020-07-31 19:11:05,088 INFO Download rate 702.5K/s                                                                    \n"
     ]
    },
    {
     "data": {
      "text/plain": [
       "Result(content_length=632256,content_type=application/x-netcdf,location=http://136.156.133.42/cache-compute-0014/cache/data4/adaptor.mars.internal-1596204931.7265623-8610-15-d062b13d-3c83-402b-babd-fb2864b86b01.nc)"
      ]
     },
     "execution_count": 4,
     "metadata": {},
     "output_type": "execute_result"
    }
   ],
   "source": [
    "import cdsapi\n",
    "\n",
    "c = cdsapi.Client()\n",
    "\n",
    "c.retrieve(\n",
    "    'reanalysis-era5-single-levels',\n",
    "    {\n",
    "        'product_type': 'reanalysis',\n",
    "        'variable': variable_name,\n",
    "        'year': [\n",
    "            '1985', '1986', '1987',\n",
    "            '1988', '1989', '1990',\n",
    "            '1991', '1992', '1993',\n",
    "            '1994', '1995', '1996',\n",
    "        ],\n",
    "        'month': [\n",
    "            '01', '02', '03',\n",
    "            '04', '05', '06',\n",
    "            '07', '08', '09',\n",
    "            '10', '11', '12',\n",
    "        ],\n",
    "        'day': [\n",
    "            '01', '02', '03',\n",
    "            '04', '05', '06',\n",
    "            '07', '08', '09',\n",
    "            '10', '11', '12',\n",
    "            '13', '14', '15',\n",
    "            '16', '17', '18',\n",
    "            '19', '20', '21',\n",
    "            '22', '23', '24',\n",
    "            '25', '26', '27',\n",
    "            '28', '29', '30',\n",
    "            '31',\n",
    "        ],\n",
    "        'time': [\n",
    "            '00:00', '01:00', '02:00',\n",
    "            '03:00', '04:00', '05:00',\n",
    "            '06:00', '07:00', '08:00',\n",
    "            '09:00', '10:00', '11:00',\n",
    "            '12:00', '13:00', '14:00',\n",
    "            '15:00', '16:00', '17:00',\n",
    "            '18:00', '19:00', '20:00',\n",
    "            '21:00', '22:00', '23:00',\n",
    "        ],\n",
    "        'format': 'netcdf',\n",
    "        'area': [\n",
    "            50.76, 0.24, 50.74,\n",
    "            0.26,\n",
    "        ],\n",
    "    },\n",
    "    'ERA5/'+file_name+'_p3.nc')"
   ]
  },
  {
   "cell_type": "code",
   "execution_count": null,
   "metadata": {},
   "outputs": [
    {
     "name": "stderr",
     "output_type": "stream",
     "text": [
      "2020-07-31 19:11:05,616 INFO Welcome to the CDS\n",
      "2020-07-31 19:11:05,619 INFO Sending request to https://cds.climate.copernicus.eu/api/v2/resources/reanalysis-era5-single-levels\n",
      "2020-07-31 19:11:06,336 INFO Request is queued\n",
      "2020-07-31 19:11:07,450 INFO Request is running\n",
      "2020-07-31 20:13:39,276 INFO Request is completed\n",
      "2020-07-31 20:13:39,278 INFO Downloading http://136.156.133.37/cache-compute-0011/cache/data1/adaptor.mars.internal-1596215466.541284-23666-1-42e7e1ef-3555-43b6-a177-fc6fa73665c1.nc to ERA5/Hs_p4.nc (309.3K)\n",
      "2020-07-31 20:13:39,971 INFO Download rate 447.6K/s                                                                    \n"
     ]
    },
    {
     "data": {
      "text/plain": [
       "Result(content_length=316752,content_type=application/x-netcdf,location=http://136.156.133.37/cache-compute-0011/cache/data1/adaptor.mars.internal-1596215466.541284-23666-1-42e7e1ef-3555-43b6-a177-fc6fa73665c1.nc)"
      ]
     },
     "execution_count": 5,
     "metadata": {},
     "output_type": "execute_result"
    }
   ],
   "source": [
    "import cdsapi\n",
    "\n",
    "c = cdsapi.Client()\n",
    "\n",
    "c.retrieve(\n",
    "    'reanalysis-era5-single-levels',\n",
    "    {\n",
    "        'product_type': 'reanalysis',\n",
    "        'variable': variable_name,\n",
    "        'year': [\n",
    "            '1979', '1980', '1981',\n",
    "            '1982', '1983', '1984',\n",
    "        ],\n",
    "        'month': [\n",
    "            '01', '02', '03',\n",
    "            '04', '05', '06',\n",
    "            '07', '08', '09',\n",
    "            '10', '11', '12',\n",
    "        ],\n",
    "        'day': [\n",
    "            '01', '02', '03',\n",
    "            '04', '05', '06',\n",
    "            '07', '08', '09',\n",
    "            '10', '11', '12',\n",
    "            '13', '14', '15',\n",
    "            '16', '17', '18',\n",
    "            '19', '20', '21',\n",
    "            '22', '23', '24',\n",
    "            '25', '26', '27',\n",
    "            '28', '29', '30',\n",
    "            '31',\n",
    "        ],\n",
    "        'time': [\n",
    "            '00:00', '01:00', '02:00',\n",
    "            '03:00', '04:00', '05:00',\n",
    "            '06:00', '07:00', '08:00',\n",
    "            '09:00', '10:00', '11:00',\n",
    "            '12:00', '13:00', '14:00',\n",
    "            '15:00', '16:00', '17:00',\n",
    "            '18:00', '19:00', '20:00',\n",
    "            '21:00', '22:00', '23:00',\n",
    "        ],\n",
    "        'format': 'netcdf',\n",
    "        'area': [\n",
    "            50.76, 0.24, 50.74,\n",
    "            0.26,\n",
    "        ],\n",
    "    },\n",
    "    'ERA5/'+file_name+'_p4.nc')"
   ]
  },
  {
   "cell_type": "code",
   "execution_count": null,
   "metadata": {},
   "outputs": [],
   "source": []
  }
 ],
 "metadata": {
  "kernelspec": {
   "display_name": "Python 3",
   "language": "python",
   "name": "python3"
  },
  "language_info": {
   "codemirror_mode": {
    "name": "ipython",
    "version": 3
   },
   "file_extension": ".py",
   "mimetype": "text/x-python",
   "name": "python",
   "nbconvert_exporter": "python",
   "pygments_lexer": "ipython3",
   "version": "3.7.6"
  }
 },
 "nbformat": 4,
 "nbformat_minor": 4
}
